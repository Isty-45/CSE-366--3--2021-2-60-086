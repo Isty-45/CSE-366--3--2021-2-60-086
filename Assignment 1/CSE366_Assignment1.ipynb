{
  "nbformat": 4,
  "nbformat_minor": 0,
  "metadata": {
    "colab": {
      "provenance": [],
      "gpuType": "T4"
    },
    "kernelspec": {
      "name": "python3",
      "display_name": "Python 3"
    },
    "language_info": {
      "name": "python"
    },
    "accelerator": "GPU"
  },
  "cells": [
    {
      "cell_type": "markdown",
      "source": [
        "#Assignment: Enhanced Dynamic Robot Movement Simulation\n",
        "### Name : Maherun Nessa Isty\n",
        "### ID : 2021-2-60-086\n",
        "### CSE366 : Artificial Intelligence (AI)\n",
        "### Sec: 3\n",
        "\n"
      ],
      "metadata": {
        "id": "8boqHtAyRFos"
      }
    },
    {
      "cell_type": "markdown",
      "source": [
        "#Introduction\n",
        "\n",
        "Search algorithms play a crucial role in many areas of computer science and artificial intelligence, particularly in pathfinding and graph traversal tasks. This lab focuses on implementing four fundamental search algorithms:\n",
        "\n",
        "Uninformed Search Strategies:\n",
        "\n",
        "    Depth-First Search (DFS)\n",
        "    Breadth-First Search (BFS)\n",
        "\n",
        "Informed Search Strategies:\n",
        "\n",
        "    Uniform Cost Search (UCS)\n",
        "    A* Search\n",
        "\n",
        "Students will apply these algorithms to a grid-based navigation problem, identifying the most efficient path from a start point to a goal point while avoiding obstacles."
      ],
      "metadata": {
        "id": "pcJ9x_7iFbl0"
      }
    },
    {
      "cell_type": "code",
      "execution_count": 1,
      "metadata": {
        "id": "-BPnUpwYGEJN"
      },
      "outputs": [],
      "source": [
        "import numpy as np\n",
        "import matplotlib.pyplot as plt\n",
        "from collections import deque\n",
        "from queue import PriorityQueue #A*\n",
        "import heapq\n",
        "\n",
        "class PriorityQueue:\n",
        "    def __init__(self):\n",
        "        self.elements = []\n",
        "\n",
        "    def empty(self):\n",
        "        return len(self.elements) == 0\n",
        "\n",
        "    def put(self, item, priority):\n",
        "        heapq.heappush(self.elements, (priority, item))\n",
        "\n",
        "    def get(self):\n",
        "        return heapq.heappop(self.elements)[1]"
      ]
    },
    {
      "cell_type": "code",
      "source": [
        "class Node:\n",
        "    def __init__(self, state, parent=None, action=None, path_cost=0, battery_level=100):\n",
        "        self.state = state\n",
        "        self.parent = parent\n",
        "        self.action = action\n",
        "        self.path_cost = path_cost\n",
        "        self.battery_level = battery_level\n",
        "\n",
        "    def __lt__(self, other):\n",
        "        return self.path_cost < other.path_cost\n"
      ],
      "metadata": {
        "id": "oxZ5a5bTGFL4"
      },
      "execution_count": 2,
      "outputs": []
    },
    {
      "cell_type": "markdown",
      "source": [
        "#Environment Setup\n",
        "Implement a environment class to model the navigation environment as a 2D grid. The grid should include obstacles, a start point (S), and a goal point (G). Implement Search Algorithms:\n",
        "\n",
        "Implement the DFS and BFS algorithms to explore the grid. Implement the UCS and A* Search algorithms, utilizing cost functions and heuristics to find optimal paths."
      ],
      "metadata": {
        "id": "gYR-R8auRp3d"
      }
    },
    {
      "cell_type": "code",
      "source": [
        "class Environment:\n",
        "    def __init__(self, grid, start, goal):\n",
        "        self.grid = grid  # The grid layout where 1 represents an obstacle and 0 is free space.\n",
        "        self.initial = start  # Starting position of the agent.\n",
        "        self.goal = goal  # Goal position the agent aims to reach.\n",
        "        self.states_requiring_charging = set()\n",
        "        self.battery_consumption = 100*(10/100)  # Battery consumption per move in percentage.\n",
        "\n",
        "    # Returns the possible actions from a given state.\n",
        "    def actions(self, state):\n",
        "        possible_actions = ['UP', 'DOWN', 'LEFT', 'RIGHT']\n",
        "        x, y = state\n",
        "\n",
        "        # Remove impossible actions based on grid boundaries and obstacles.\n",
        "        if x == 0 or self.grid[x - 1][y] == 1:\n",
        "            possible_actions.remove('UP')\n",
        "        if x == len(self.grid) - 1 or self.grid[x + 1][y] == 1:\n",
        "            possible_actions.remove('DOWN')\n",
        "        if y == 0 or self.grid[x][y - 1] == 1:\n",
        "            possible_actions.remove('LEFT')\n",
        "        if y == len(self.grid[0]) - 1 or self.grid[x][y + 1] == 1:\n",
        "            possible_actions.remove('RIGHT')\n",
        "\n",
        "        return possible_actions\n",
        "\n",
        "    # Returns the state resulting from taking a given action at a given state.\n",
        "    def result(self, state, action):\n",
        "        x, y = state\n",
        "        if action == 'UP':\n",
        "            return (x - 1, y)\n",
        "        if action == 'DOWN':\n",
        "            return (x + 1, y)\n",
        "        if action == 'LEFT':\n",
        "            return (x, y - 1)\n",
        "        if action == 'RIGHT':\n",
        "            return (x, y + 1)\n",
        "\n",
        "    # Checks if the goal has been reached.\n",
        "    def is_goal(self, state):\n",
        "        return state == self.goal\n",
        "\n",
        "    # Checks if the grid is valid, i.e. not completely blocked by obstacles and has valid start and goal positions.\n",
        "    def is_valid(self):\n",
        "        # Check if start and goal positions are free spaces\n",
        "        if self.grid[self.initial[0]][self.initial[1]] == 1 or self.grid[self.goal[0]][self.goal[1]] == 1:\n",
        "            return False\n",
        "\n",
        "        # Check if there is at least one free space in each row and column\n",
        "        for i in range(len(self.grid)):\n",
        "            if 0 not in self.grid[i]:\n",
        "                return False\n",
        "        for j in range(len(self.grid[0])):\n",
        "            if 0 not in self.grid[:, j]:\n",
        "                return False\n",
        "\n",
        "        # If all checks passed, return True\n",
        "        return True\n"
      ],
      "metadata": {
        "id": "tZYR_bY3GJr5"
      },
      "execution_count": 3,
      "outputs": []
    },
    {
      "cell_type": "markdown",
      "source": [
        "#Agent"
      ],
      "metadata": {
        "id": "8scY63FTSbYq"
      }
    },
    {
      "cell_type": "markdown",
      "source": [
        "**Agent using UCS Algorithm**"
      ],
      "metadata": {
        "id": "vvnilJgdTT02"
      }
    },
    {
      "cell_type": "code",
      "source": [
        "\n",
        "class Agent_ucs:\n",
        "    def __init__(self, env):\n",
        "        self.env = env\n",
        "\n",
        "    def uniform_cost_search(self):\n",
        "        # Check if the grid is valid before starting the search\n",
        "        if not self.env.is_valid():\n",
        "            return self.reconstruct_path(came_from, current_node.state), battery_levels\n",
        "            #print(\"Invalid grid. No valid path possible.\")\n",
        "            #return [], {}\n",
        "\n",
        "        frontier = PriorityQueue()  # Priority queue for UCS.\n",
        "        initial_node = Node(self.env.initial, path_cost=0, battery_level=100)\n",
        "        frontier.put(initial_node, 0)\n",
        "        came_from = {self.env.initial: None}\n",
        "        cost_so_far = {self.env.initial: 0}\n",
        "        battery_levels = {self.env.initial: 100}\n",
        "\n",
        "        while not frontier.empty():\n",
        "            current_node = frontier.get()\n",
        "\n",
        "            if self.env.is_goal(current_node.state):\n",
        "                return self.reconstruct_path(came_from, current_node.state), battery_levels\n",
        "\n",
        "            for action in self.env.actions(current_node.state):\n",
        "                new_state = self.env.result(current_node.state, action)\n",
        "                new_cost = cost_so_far[current_node.state] + 1  # Assuming uniform cost for simplicity; adjust if varying costs.\n",
        "                new_battery_level = current_node.battery_level - self.env.battery_consumption  # Decrease battery level by the consumption per move\n",
        "\n",
        "                # Check if the battery level is sufficient\n",
        "                if new_battery_level <= 0:\n",
        "                    # Recharge the battery to 100%\n",
        "                    new_battery_level = 100\n",
        "                    # Add the state to the set of states requiring charging\n",
        "                    self.env.states_requiring_charging.add(new_state)\n",
        "\n",
        "                if new_state not in cost_so_far or new_cost < cost_so_far[new_state]:\n",
        "                    cost_so_far[new_state] = new_cost\n",
        "                    priority = new_cost\n",
        "                    new_node = Node(new_state, current_node, action, new_cost, new_battery_level)\n",
        "                    frontier.put(new_node, priority)\n",
        "                    came_from[new_state] = current_node.state\n",
        "                    battery_levels[new_state] = new_battery_level\n",
        "\n",
        "        # If no valid path found, return empty lists\n",
        "        print(\"No valid path found.\")\n",
        "        return [], {}\n",
        "\n",
        "    def reconstruct_path(self, came_from, current):\n",
        "        path = []\n",
        "        while current in came_from:\n",
        "            path.append(current)\n",
        "            current = came_from[current]\n",
        "        path.append(self.env.initial)\n",
        "        path.reverse()\n",
        "        return path"
      ],
      "metadata": {
        "id": "RRNyKpGQG9w3"
      },
      "execution_count": 4,
      "outputs": []
    },
    {
      "cell_type": "markdown",
      "source": [
        "**Agent using A* Algorithm**"
      ],
      "metadata": {
        "id": "7Z-WFrz7TZsS"
      }
    },
    {
      "cell_type": "code",
      "source": [
        "def heuristic(state, goal):\n",
        "    x1, y1 = state\n",
        "    x2, y2 = goal\n",
        "    return abs(x1 - x2) + abs(y1 - y2)"
      ],
      "metadata": {
        "id": "JlvtGUvzIZSU"
      },
      "execution_count": 5,
      "outputs": []
    },
    {
      "cell_type": "code",
      "source": [
        "from queue import PriorityQueue\n",
        "class Agent:\n",
        "    def __init__(self, env):\n",
        "        self.env = env\n",
        "\n",
        "    def a_star_search(self):\n",
        "        start_node = Node(self.env.initial, path_cost=0, battery_level=100)\n",
        "        frontier = PriorityQueue()\n",
        "        frontier.put(start_node)\n",
        "        came_from = {self.env.initial: None}\n",
        "        cost_so_far = {self.env.initial: 0}\n",
        "        battery_levels = {(pos[0], pos[1]): 100 for pos in np.ndindex(self.env.grid.shape)}\n",
        "# Initialize battery levels for all states\n",
        "\n",
        "        while not frontier.empty():\n",
        "            current_node = frontier.get()\n",
        "\n",
        "            if self.env.is_goal(current_node.state):\n",
        "                return self.reconstruct_path(came_from, current_node.state), battery_levels\n",
        "\n",
        "            for action in self.env.actions(current_node.state):\n",
        "                new_state = self.env.result(current_node.state, action)\n",
        "                new_cost = cost_so_far[current_node.state] + 1\n",
        "                new_battery_level = current_node.battery_level - self.env.battery_consumption\n",
        "\n",
        "                # Check if the battery level is sufficient\n",
        "                if new_battery_level <= 0:\n",
        "                    # Recharge the battery to 100%\n",
        "                    new_battery_level = 100\n",
        "\n",
        "                    # Add the state to the set of states requiring charging\n",
        "                    self.env.states_requiring_charging.add(new_state)\n",
        "\n",
        "                if new_state not in cost_so_far or new_cost < cost_so_far[new_state]:\n",
        "                    cost_so_far[new_state] = new_cost\n",
        "                    priority = new_cost + heuristic(new_state, self.env.goal)\n",
        "                    new_node = Node(new_state, current_node, action, new_cost, new_battery_level)\n",
        "                    frontier.put(new_node)\n",
        "                    came_from[new_state] = current_node.state\n",
        "                    battery_levels[new_state] = new_battery_level  # Update battery level\n",
        "\n",
        "        return [], {}\n",
        "\n",
        "    def reconstruct_path(self, came_from, current):\n",
        "        path = []\n",
        "        while current in came_from:\n",
        "            path.append(current)\n",
        "            current = came_from[current]\n",
        "        path.append(self.env.initial)\n",
        "        path.reverse()\n",
        "        return path\n"
      ],
      "metadata": {
        "id": "BQkZ0gpPG-3o"
      },
      "execution_count": 6,
      "outputs": []
    },
    {
      "cell_type": "markdown",
      "source": [
        "#Visualization\n",
        "Use a visualization library (e.g., matplotlib) to visually represent the grid, the obstacles, and the paths found by each algorithm."
      ],
      "metadata": {
        "id": "UUh_y_z-SkeE"
      }
    },
    {
      "cell_type": "code",
      "source": [
        "def visualize_grid_and_path(grid, path, battery_levels):\n",
        "    if not path:\n",
        "        print(\"No valid path found.\")\n",
        "        return\n",
        "\n",
        "    grid_array = np.array(grid)  # Convert grid to numpy array for easy plotting.\n",
        "    fig, ax = plt.subplots()\n",
        "    ax.imshow(grid_array, cmap='Greys', alpha=0.3)  # Grid background.\n",
        "\n",
        "    start = path[0]\n",
        "    goal = path[-1]\n",
        "    ax.plot(start[1], start[0], 'bs', markersize=12)  # Start position in blue.\n",
        "    ax.plot(goal[1], goal[0], 'gs', markersize=12)  # Goal position in green.\n",
        "\n",
        "    xs, ys = zip(*path)  # Extract X and Y coordinates of the path.\n",
        "    ax.plot(ys, xs, 'r-', linewidth=3)  # Plot the path in red.\n",
        "\n",
        "    # Plot battery levels\n",
        "    for pos in path:  # Only plot the battery level for the states in the path\n",
        "        battery_level = battery_levels.get(pos, 100)  # Get battery level, default to 100 if not available\n",
        "        ax.text(pos[1], pos[0], f'{battery_level}%', color='blue', ha='center', va='center', fontsize=8)\n",
        "        # If the state requires charging, mark it with a star\n",
        "        if pos in environment.states_requiring_charging:\n",
        "          if(battery_level==100):\n",
        "            ax.plot(pos[1], pos[0], 'y*', markersize=15)\n",
        "\n",
        "    ax.set_xticks(np.arange(-.5, len(grid[0]), 1), minor=True)\n",
        "    ax.set_yticks(np.arange(-.5, len(grid), 1), minor=True)\n",
        "    ax.grid(which=\"minor\", color=\"b\", linestyle='-', linewidth=1)\n",
        "    ax.tick_params(which=\"minor\", size=0)\n",
        "    ax.tick_params(which=\"major\", bottom=False, left=False, labelbottom=False, labelleft=False)\n",
        "    plt.show()\n"
      ],
      "metadata": {
        "id": "T-QBa2y6HNyv"
      },
      "execution_count": 16,
      "outputs": []
    },
    {
      "cell_type": "markdown",
      "source": [
        "#Simulation"
      ],
      "metadata": {
        "id": "skdoVMsISwR3"
      }
    },
    {
      "cell_type": "markdown",
      "source": [
        "**using UCS Algorithm**"
      ],
      "metadata": {
        "id": "kqSQdX4TS5nN"
      }
    },
    {
      "cell_type": "code",
      "source": [
        " # Generate a Random Grid Function\n",
        "def generate_random_grid(size, obstacle_probability):\n",
        "    return np.random.choice([0, 1], size=(size, size), p=[1-obstacle_probability, obstacle_probability])\n",
        "\n",
        "# Define the size of the grid and the probability of an obstacle in each cell\n",
        "grid_size = 10\n",
        "obstacle_probability = 0.2  # 20% chance of being an obstacle\n",
        "\n",
        "# Generate a random grid\n",
        "grid = generate_random_grid(grid_size, obstacle_probability)\n",
        "\n",
        "# Define start and goal positions\n",
        "start = (0, 0)\n",
        "goal = (grid_size - 1, grid_size - 1)\n",
        "\n",
        "# Ensure start and goal are not obstacles\n",
        "grid[start] = 0\n",
        "grid[goal] = 0\n",
        "\n",
        "# Create the environment and agent\n",
        "environment = Environment(grid, start, goal)\n",
        "agent_ucs = Agent_ucs(environment)\n",
        "\n",
        "# Solve the problem with Uniform Cost Search\n",
        "solution_path, battery_levels = agent_ucs.uniform_cost_search()\n",
        "print(\"Solution Path:\", solution_path)\n",
        "\n",
        "# Visualize the solution\n",
        "visualize_grid_and_path(grid, solution_path, battery_levels)"
      ],
      "metadata": {
        "colab": {
          "base_uri": "https://localhost:8080/",
          "height": 443
        },
        "id": "-Gyq-FSDHPQp",
        "outputId": "cc27d336-a766-4790-b346-3c271e4f8d50"
      },
      "execution_count": 33,
      "outputs": [
        {
          "output_type": "stream",
          "name": "stdout",
          "text": [
            "Solution Path: [(0, 0), (0, 0), (1, 0), (2, 0), (2, 1), (2, 2), (2, 3), (2, 4), (2, 5), (3, 5), (4, 5), (5, 5), (6, 5), (6, 6), (6, 7), (7, 7), (7, 8), (7, 9), (8, 9), (9, 9)]\n"
          ]
        },
        {
          "output_type": "display_data",
          "data": {
            "text/plain": [
              "<Figure size 640x480 with 1 Axes>"
            ],
            "image/png": "[encoded data removed]"
          },
          "metadata": {}
        }
      ]
    },
    {
      "cell_type": "markdown",
      "source": [
        "**using A* Algorithm**"
      ],
      "metadata": {
        "id": "ePG9XN9GTAzO"
      }
    },
    {
      "cell_type": "code",
      "source": [
        "# Generate a Random Grid Function\n",
        "def generate_random_grid(size, obstacle_probability):\n",
        "    return np.random.choice([0, 1], size=(size, size), p=[1-obstacle_probability, obstacle_probability])\n",
        "\n",
        "# Define the size of the grid and the probability of an obstacle in each cell\n",
        "grid_size = 10\n",
        "obstacle_probability = 0.2  # 20% chance of being an obstacle\n",
        "\n",
        "# Generate a random grid\n",
        "grid = generate_random_grid(grid_size, obstacle_probability)\n",
        "\n",
        "# Define start and goal positions\n",
        "start = (0, 0)\n",
        "goal = (grid_size - 1, grid_size - 1)\n",
        "\n",
        "# Ensure start and goal are not obstacles\n",
        "grid[start] = 0\n",
        "grid[goal] = 0\n",
        "\n",
        "# Create the environment and agent\n",
        "environment = Environment(grid, start, goal)\n",
        "agent = Agent(environment)\n",
        "\n",
        "# Solve the problem with the A* algorithm\n",
        "solution_path, battery_levels = agent.a_star_search()\n",
        "print(\"Solution Path:\", solution_path)\n",
        "\n",
        "# Visualize the solution\n",
        "visualize_grid_and_path(grid, solution_path, battery_levels)"
      ],
      "metadata": {
        "colab": {
          "base_uri": "https://localhost:8080/",
          "height": 443
        },
        "id": "vSdy_uFJHlK7",
        "outputId": "64460548-ba9a-4445-a66c-4ff0024bc132"
      },
      "execution_count": 18,
      "outputs": [
        {
          "output_type": "stream",
          "name": "stdout",
          "text": [
            "Solution Path: [(0, 0), (0, 0), (1, 0), (2, 0), (2, 1), (2, 2), (2, 3), (2, 4), (3, 4), (4, 4), (5, 4), (5, 5), (6, 5), (7, 5), (7, 6), (7, 7), (8, 7), (8, 8), (8, 9), (9, 9)]\n"
          ]
        },
        {
          "output_type": "display_data",
          "data": {
            "text/plain": [
              "<Figure size 640x480 with 1 Axes>"
            ],
            "image/png": "[encoded data removed]"
          },
          "metadata": {}
        }
      ]
    },
    {
      "cell_type": "markdown",
      "source": [
        "#UCS and A* search algorithms\n"
      ],
      "metadata": {
        "id": "cLF0viXVF-67"
      }
    },
    {
      "cell_type": "code",
      "source": [
        "def generate_random_grid(size, obstacle_probability):\n",
        "    return np.random.choice([0, 1], size=(size, size), p=[1-obstacle_probability, obstacle_probability])\n",
        "\n",
        "# Define the size of the grid and the probability of an obstacle in each cell\n",
        "grid_size = 10\n",
        "obstacle_probability = 0.2  # 20% chance of being an obstacle\n",
        "\n",
        "# Generate a random grid\n",
        "grid = generate_random_grid(grid_size, obstacle_probability)\n",
        "\n",
        "# Define start and goal positions\n",
        "start = (np.random.randint(grid_size), np.random.randint(grid_size))\n",
        "goal = (np.random.randint(grid_size), np.random.randint(grid_size))\n",
        "\n",
        "# Ensure start and goal are not obstacles\n",
        "grid[start] = 0\n",
        "grid[goal] = 0\n",
        "\n",
        "# Create the environment and agent\n",
        "environment = Environment(grid, start, goal)\n",
        "agent_ucs = Agent_ucs(environment)\n",
        "\n",
        "# Solve the problem with Uniform Cost Search\n",
        "solution_path, battery_levels = agent_ucs.uniform_cost_search()\n",
        "print(\"Solution Path:\", solution_path)\n",
        "\n",
        "# Visualize the solution\n",
        "visualize_grid_and_path(grid, solution_path, battery_levels)\n",
        "\n",
        "environment = Environment(grid, start, goal)\n",
        "agent = Agent(environment)\n",
        "\n",
        "# Solve the problem with the A* algorithm\n",
        "solution_path, battery_levels = agent.a_star_search()\n",
        "print(\"Solution Path:\", solution_path)\n",
        "\n",
        "# Visualize the solution\n",
        "visualize_grid_and_path(grid, solution_path, battery_levels)"
      ],
      "metadata": {
        "colab": {
          "base_uri": "https://localhost:8080/",
          "height": 850
        },
        "id": "AtMJIq19BrKX",
        "outputId": "889d9db6-f061-4728-a20d-276e3ee6d51d"
      },
      "execution_count": 32,
      "outputs": [
        {
          "output_type": "stream",
          "name": "stdout",
          "text": [
            "Solution Path: [(5, 9), (5, 9), (5, 8), (5, 7), (5, 6), (5, 5), (5, 4), (4, 4), (3, 4), (2, 4), (2, 3), (1, 3), (0, 3)]\n"
          ]
        },
        {
          "output_type": "display_data",
          "data": {
            "text/plain": [
              "<Figure size 640x480 with 1 Axes>"
            ],
            "image/png": "[encoded data removed]"
          },
          "metadata": {}
        },
        {
          "output_type": "stream",
          "name": "stdout",
          "text": [
            "Solution Path: [(5, 9), (5, 9), (5, 8), (5, 7), (5, 6), (5, 5), (5, 4), (4, 4), (3, 4), (2, 4), (2, 3), (1, 3), (0, 3)]\n"
          ]
        },
        {
          "output_type": "display_data",
          "data": {
            "text/plain": [
              "<Figure size 640x480 with 1 Axes>"
            ],
            "image/png": "[encoded data removed]"
          },
          "metadata": {}
        }
      ]
    },
    {
      "cell_type": "markdown",
      "source": [
        "#Comparing the execution time"
      ],
      "metadata": {
        "id": "-VkCcjk0HzIE"
      }
    },
    {
      "cell_type": "code",
      "source": [
        "import time  # Import the time module for measuring execution time\n",
        "\n",
        "# Define the generate_random_grid, Environment, Agent_ucs, visualize_grid_and_path functions here\n",
        "\n",
        "# Define the generate_random_grid function\n",
        "def generate_random_grid(size, obstacle_probability):\n",
        "    return np.random.choice([0, 1], size=(size, size), p=[1-obstacle_probability, obstacle_probability])\n",
        "\n",
        "# Define the size of the grid and the probability of an obstacle in each cell\n",
        "grid_size = 10\n",
        "obstacle_probability = 0.2  # 20% chance of being an obstacle\n",
        "\n",
        "# Generate a random grid\n",
        "grid = generate_random_grid(grid_size, obstacle_probability)\n",
        "\n",
        "# Define start and goal positions\n",
        "start = (np.random.randint(grid_size), np.random.randint(grid_size))\n",
        "goal = (np.random.randint(grid_size), np.random.randint(grid_size))\n",
        "\n",
        "# Ensure start and goal are not obstacles\n",
        "grid[start] = 0\n",
        "grid[goal] = 0\n",
        "\n",
        "# Create the environment and agent for UCS\n",
        "environment = Environment(grid, start, goal)\n",
        "agent_ucs = Agent_ucs(environment)\n",
        "\n",
        "# Measure the execution time for UCS\n",
        "start_time_ucs = time.time()\n",
        "solution_path_ucs, battery_levels_ucs = agent_ucs.uniform_cost_search()\n",
        "end_time_ucs = time.time()\n",
        "execution_time_ucs = end_time_ucs - start_time_ucs\n",
        "\n",
        "# Visualize the solution for UCS\n",
        "visualize_grid_and_path(grid, solution_path_ucs, battery_levels_ucs)\n",
        "print(\"Execution time for UCS:\", execution_time_ucs, \"seconds\")\n",
        "\n",
        "# Create the environment and agent for A*\n",
        "environment = Environment(grid, start, goal)\n",
        "agent = Agent(environment)\n",
        "\n",
        "# Measure the execution time for A*\n",
        "start_time_astar = time.time()\n",
        "solution_path_astar, battery_levels_astar = agent.a_star_search()\n",
        "end_time_astar = time.time()\n",
        "execution_time_astar = end_time_astar - start_time_astar\n",
        "\n",
        "# Visualize the solution for A*\n",
        "visualize_grid_and_path(grid, solution_path_astar, battery_levels_astar)\n",
        "print(\"Execution time for A*:\", execution_time_astar, \"seconds\")"
      ],
      "metadata": {
        "colab": {
          "base_uri": "https://localhost:8080/",
          "height": 830
        },
        "id": "ers4UzL7Gm35",
        "outputId": "dd3c095f-ff2b-426f-d557-1cc409707cd3"
      },
      "execution_count": 41,
      "outputs": [
        {
          "output_type": "display_data",
          "data": {
            "text/plain": [
              "<Figure size 640x480 with 1 Axes>"
            ],
            "image/png": "[encoded data removed]"
          },
          "metadata": {}
        },
        {
          "output_type": "stream",
          "name": "stdout",
          "text": [
            "Execution time for UCS: 0.0011332035064697266 seconds\n"
          ]
        },
        {
          "output_type": "display_data",
          "data": {
            "text/plain": [
              "<Figure size 640x480 with 1 Axes>"
            ],
            "image/png": "[encoded data removed]"
          },
          "metadata": {}
        },
        {
          "output_type": "stream",
          "name": "stdout",
          "text": [
            "Execution time for A*: 0.000732421875 seconds\n"
          ]
        }
      ]
    }
  ]
}